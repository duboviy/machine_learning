{
  "nbformat": 4,
  "nbformat_minor": 0,
  "metadata": {
    "colab": {
      "name": "kaggle_mnist.ipynb",
      "provenance": [],
      "collapsed_sections": []
    },
    "kernelspec": {
      "name": "python3",
      "display_name": "Python 3"
    },
    "accelerator": "GPU"
  },
  "cells": [
    {
      "cell_type": "markdown",
      "metadata": {
        "id": "Ah7dy1kFL2H9",
        "colab_type": "text"
      },
      "source": [
        "# [Kaggle] Digit Recognizer (MNIST dataset)"
      ]
    },
    {
      "cell_type": "code",
      "metadata": {
        "id": "qrfd6FzSLrE2",
        "colab_type": "code",
        "colab": {}
      },
      "source": [
        "from tensorflow.keras.models import Sequential\n",
        "from tensorflow.keras.layers import Dense, Conv2D, MaxPooling2D, Dropout, Flatten \n",
        "from tensorflow.keras import utils\n",
        "from tensorflow.keras.preprocessing import image\n",
        "from tensorflow.python.keras.preprocessing.image import ImageDataGenerator\n",
        "from tensorflow.keras.callbacks import ReduceLROnPlateau, ModelCheckpoint\n",
        "import tensorflow as tf\n",
        "from sklearn.model_selection import train_test_split\n",
        "from google.colab import files\n",
        "import numpy as np\n",
        "import matplotlib.pyplot as plt\n",
        "%matplotlib inline "
      ],
      "execution_count": 0,
      "outputs": []
    },
    {
      "cell_type": "markdown",
      "metadata": {
        "id": "nLUhgNWtsv8l",
        "colab_type": "text"
      },
      "source": [
        "## Configure Kaggle API"
      ]
    },
    {
      "cell_type": "markdown",
      "metadata": {
        "id": "iCoP2ocGtYr9",
        "colab_type": "text"
      },
      "source": [
        "Upload auth token"
      ]
    },
    {
      "cell_type": "code",
      "metadata": {
        "id": "rzU1bjUis3ma",
        "colab_type": "code",
        "outputId": "4bbed9c2-070e-41d4-dfae-77f3e3ab7473",
        "colab": {
          "resources": {
            "http://localhost:8080/nbextensions/google.colab/files.js": {
              "data": "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",
              "ok": true,
              "headers": [
                [
                  "content-type",
                  "application/javascript"
                ]
              ],
              "status": 200,
              "status_text": ""
            }
          },
          "base_uri": "https://localhost:8080/",
          "height": 71
        }
      },
      "source": [
        "file = files.upload()"
      ],
      "execution_count": 2,
      "outputs": [
        {
          "output_type": "display_data",
          "data": {
            "text/html": [
              "\n",
              "     <input type=\"file\" id=\"files-cae21f4c-3577-4ac0-a8e5-9917961d98e2\" name=\"files[]\" multiple disabled />\n",
              "     <output id=\"result-cae21f4c-3577-4ac0-a8e5-9917961d98e2\">\n",
              "      Upload widget is only available when the cell has been executed in the\n",
              "      current browser session. Please rerun this cell to enable.\n",
              "      </output>\n",
              "      <script src=\"/nbextensions/google.colab/files.js\"></script> "
            ],
            "text/plain": [
              "<IPython.core.display.HTML object>"
            ]
          },
          "metadata": {
            "tags": []
          }
        },
        {
          "output_type": "stream",
          "text": [
            "Saving kaggle.json to kaggle.json\n"
          ],
          "name": "stdout"
        }
      ]
    },
    {
      "cell_type": "code",
      "metadata": {
        "id": "292OceAu7GyX",
        "colab_type": "code",
        "outputId": "5edb4667-4016-448a-c9ed-42336c5bb1f9",
        "colab": {
          "base_uri": "https://localhost:8080/",
          "height": 34
        }
      },
      "source": [
        "!ls"
      ],
      "execution_count": 3,
      "outputs": [
        {
          "output_type": "stream",
          "text": [
            "kaggle.json  sample_data\n"
          ],
          "name": "stdout"
        }
      ]
    },
    {
      "cell_type": "code",
      "metadata": {
        "id": "NoZlnpjytrj5",
        "colab_type": "code",
        "colab": {}
      },
      "source": [
        "!mkdir ~/.kaggle\n",
        "!mv kaggle.json ~/.kaggle"
      ],
      "execution_count": 0,
      "outputs": []
    },
    {
      "cell_type": "markdown",
      "metadata": {
        "id": "0xB767r3uDGa",
        "colab_type": "text"
      },
      "source": [
        "## Download dataset from Kaggle"
      ]
    },
    {
      "cell_type": "code",
      "metadata": {
        "id": "-jtLp-DhuJzh",
        "colab_type": "code",
        "outputId": "b291a978-885a-4e07-d3c8-7cdaae07ecb3",
        "colab": {
          "base_uri": "https://localhost:8080/",
          "height": 204
        }
      },
      "source": [
        "!kaggle competitions download -c digit-recognizer"
      ],
      "execution_count": 5,
      "outputs": [
        {
          "output_type": "stream",
          "text": [
            "Warning: Your Kaggle API key is readable by other users on this system! To fix this, you can run 'chmod 600 /root/.kaggle/kaggle.json'\n",
            "Warning: Looks like you're using an outdated API Version, please consider updating (server 1.5.6 / client 1.5.4)\n",
            "Downloading sample_submission.csv to /content\n",
            "\r  0% 0.00/235k [00:00<?, ?B/s]\n",
            "\r100% 235k/235k [00:00<00:00, 86.1MB/s]\n",
            "Downloading test.csv.zip to /content\n",
            "  0% 0.00/6.09M [00:00<?, ?B/s]\n",
            "100% 6.09M/6.09M [00:00<00:00, 100MB/s]\n",
            "Downloading train.csv.zip to /content\n",
            " 55% 5.00M/9.16M [00:00<00:00, 35.9MB/s]\n",
            "100% 9.16M/9.16M [00:00<00:00, 44.9MB/s]\n"
          ],
          "name": "stdout"
        }
      ]
    },
    {
      "cell_type": "code",
      "metadata": {
        "id": "c7RGdlX9vKpB",
        "colab_type": "code",
        "outputId": "a1eff99d-ec0e-4a01-a57e-663732be87b0",
        "colab": {
          "base_uri": "https://localhost:8080/",
          "height": 34
        }
      },
      "source": [
        "!ls"
      ],
      "execution_count": 6,
      "outputs": [
        {
          "output_type": "stream",
          "text": [
            "sample_data  sample_submission.csv  test.csv.zip  train.csv.zip\n"
          ],
          "name": "stdout"
        }
      ]
    },
    {
      "cell_type": "code",
      "metadata": {
        "id": "4-vpqVaNUAC8",
        "colab_type": "code",
        "outputId": "0819f05a-e5f0-4191-dcd8-24fab1e88d73",
        "colab": {
          "base_uri": "https://localhost:8080/",
          "height": 255
        }
      },
      "source": [
        "!unzip train.csv.zip && unzip test.csv.zip && ls -lha"
      ],
      "execution_count": 7,
      "outputs": [
        {
          "output_type": "stream",
          "text": [
            "Archive:  train.csv.zip\n",
            "  inflating: train.csv               \n",
            "Archive:  test.csv.zip\n",
            "  inflating: test.csv                \n",
            "total 138M\n",
            "drwxr-xr-x 1 root root 4.0K Apr 26 11:00 .\n",
            "drwxr-xr-x 1 root root 4.0K Apr 26 10:58 ..\n",
            "drwxr-xr-x 1 root root 4.0K Apr 23 16:11 .config\n",
            "drwxr-xr-x 1 root root 4.0K Apr  3 16:24 sample_data\n",
            "-rw-r--r-- 1 root root 236K Apr 26 11:00 sample_submission.csv\n",
            "-rw-r--r-- 1 root root  49M Dec 11 20:01 test.csv\n",
            "-rw-r--r-- 1 root root 6.1M Apr 26 11:00 test.csv.zip\n",
            "-rw-r--r-- 1 root root  74M Dec 11 20:01 train.csv\n",
            "-rw-r--r-- 1 root root 9.2M Apr 26 11:00 train.csv.zip\n"
          ],
          "name": "stdout"
        }
      ]
    },
    {
      "cell_type": "markdown",
      "metadata": {
        "id": "x9Un4nJT8sJQ",
        "colab_type": "text"
      },
      "source": [
        "## Dataset format verification"
      ]
    },
    {
      "cell_type": "code",
      "metadata": {
        "id": "6xUxhfg58v5w",
        "colab_type": "code",
        "outputId": "d2ce7909-6b15-4678-c426-8efaf90f857f",
        "colab": {
          "base_uri": "https://localhost:8080/",
          "height": 207
        }
      },
      "source": [
        "!head train.csv"
      ],
      "execution_count": 10,
      "outputs": [
        {
          "output_type": "stream",
          "text": [
            "label,pixel0,pixel1,pixel2,pixel3,pixel4,pixel5,...\r\n"
          ],
          "name": "stdout"
        }
      ]
    },
    {
      "cell_type": "code",
      "metadata": {
        "id": "0NvHTE0_9GoP",
        "colab_type": "code",
        "outputId": "a1f326f6-75b4-4688-93e3-0875dc553f01",
        "colab": {
          "base_uri": "https://localhost:8080/",
          "height": 207
        }
      },
      "source": [
        "!head test.csv"
      ],
      "execution_count": 11,
      "outputs": [
        {
          "output_type": "stream",
          "text": [
            "pixel0,pixel1,pixel2,pixel3,pixel4,pixel5,pixel6,...\r\n",
          ],
          "name": "stdout"
        }
      ]
    },
    {
      "cell_type": "code",
      "metadata": {
        "id": "Khadi0f09LKi",
        "colab_type": "code",
        "outputId": "a2e57d08-5d28-4d10-debb-5be433ae58e8",
        "colab": {
          "base_uri": "https://localhost:8080/",
          "height": 187
        }
      },
      "source": [
        "!head sample_submission.csv"
      ],
      "execution_count": 13,
      "outputs": [
        {
          "output_type": "stream",
          "text": [
            "ImageId,Label\r\n",
            "1,0\r\n",
            "2,0\r\n",
            "3,0\r\n",
            "4,0\r\n",
            "5,0\r\n",
            "6,0\r\n",
            "7,0\r\n",
            "8,0\r\n",
            "9,0\r\n"
          ],
          "name": "stdout"
        }
      ]
    },
    {
      "cell_type": "markdown",
      "metadata": {
        "id": "xiurjCBVMDTG",
        "colab_type": "text"
      },
      "source": [
        "## Prepare data"
      ]
    },
    {
      "cell_type": "code",
      "metadata": {
        "id": "E5L3LUIi8PDV",
        "colab_type": "code",
        "colab": {}
      },
      "source": [
        "train_dataset = np.loadtxt('train.csv', skiprows=1, delimiter=',')"
      ],
      "execution_count": 0,
      "outputs": []
    },
    {
      "cell_type": "code",
      "metadata": {
        "id": "0772VOME9vW_",
        "colab_type": "code",
        "outputId": "d58c3083-a670-43de-bd51-047ce9d90663",
        "colab": {
          "base_uri": "https://localhost:8080/",
          "height": 102
        }
      },
      "source": [
        "train_dataset[0:5]"
      ],
      "execution_count": 17,
      "outputs": [
        {
          "output_type": "execute_result",
          "data": {
            "text/plain": [
              "array([[1., 0., 0., ..., 0., 0., 0.],\n",
              "       [0., 0., 0., ..., 0., 0., 0.],\n",
              "       [1., 0., 0., ..., 0., 0., 0.],\n",
              "       [4., 0., 0., ..., 0., 0., 0.],\n",
              "       [0., 0., 0., ..., 0., 0., 0.]])"
            ]
          },
          "metadata": {
            "tags": []
          },
          "execution_count": 17
        }
      ]
    },
    {
      "cell_type": "markdown",
      "metadata": {
        "id": "X2lqS46w-Jmg",
        "colab_type": "text"
      },
      "source": [
        "Select train data"
      ]
    },
    {
      "cell_type": "code",
      "metadata": {
        "id": "f5-5e_kj-GS5",
        "colab_type": "code",
        "colab": {}
      },
      "source": [
        "x_train = train_dataset[:, 1:]\n",
        "# Reformat data into 2D, back-end TensorFlow\n",
        "x_train = x_train.reshape(x_train.shape[0], 28, 28, 1)\n",
        "input_shape = (28, 28, 1)"
      ],
      "execution_count": 0,
      "outputs": []
    },
    {
      "cell_type": "markdown",
      "metadata": {
        "id": "DJWn7fI_AB4X",
        "colab_type": "text"
      },
      "source": [
        "Normalize train data"
      ]
    },
    {
      "cell_type": "code",
      "metadata": {
        "id": "ga0DtPJQVkEh",
        "colab_type": "code",
        "colab": {}
      },
      "source": [
        "x_train /= 255.0"
      ],
      "execution_count": 0,
      "outputs": []
    },
    {
      "cell_type": "code",
      "metadata": {
        "id": "IW7rhFNSAGIC",
        "colab_type": "code",
        "outputId": "00ccbba5-d7f5-4511-e94e-87a2f26e54a8",
        "colab": {
          "base_uri": "https://localhost:8080/",
          "height": 34
        }
      },
      "source": [
        "x_train[1].shape"
      ],
      "execution_count": 21,
      "outputs": [
        {
          "output_type": "execute_result",
          "data": {
            "text/plain": [
              "(28, 28, 1)"
            ]
          },
          "metadata": {
            "tags": []
          },
          "execution_count": 21
        }
      ]
    },
    {
      "cell_type": "markdown",
      "metadata": {
        "id": "OKNJl1jZ_9Nw",
        "colab_type": "text"
      },
      "source": [
        "Select correct results"
      ]
    },
    {
      "cell_type": "code",
      "metadata": {
        "id": "sjO-WFM0AnJI",
        "colab_type": "code",
        "colab": {}
      },
      "source": [
        "y_train = train_dataset[:, 0]"
      ],
      "execution_count": 0,
      "outputs": []
    },
    {
      "cell_type": "code",
      "metadata": {
        "id": "_nsLwMHuGnHI",
        "colab_type": "code",
        "outputId": "79075298-9e8b-48ee-c98b-d0aaf279fb15",
        "colab": {
          "base_uri": "https://localhost:8080/",
          "height": 34
        }
      },
      "source": [
        "y_train[:5]"
      ],
      "execution_count": 25,
      "outputs": [
        {
          "output_type": "execute_result",
          "data": {
            "text/plain": [
              "array([1., 0., 1., 4., 0.])"
            ]
          },
          "metadata": {
            "tags": []
          },
          "execution_count": 25
        }
      ]
    },
    {
      "cell_type": "markdown",
      "metadata": {
        "id": "aL0ZROTZApoR",
        "colab_type": "text"
      },
      "source": [
        "Transform results into \"one hot encoding\" format"
      ]
    },
    {
      "cell_type": "code",
      "metadata": {
        "id": "yQZ2utqhAutw",
        "colab_type": "code",
        "colab": {}
      },
      "source": [
        "y_train = utils.to_categorical(y_train)"
      ],
      "execution_count": 0,
      "outputs": []
    },
    {
      "cell_type": "code",
      "metadata": {
        "id": "wWlQHgMkA_BQ",
        "colab_type": "code",
        "outputId": "f1488c71-2003-437b-de41-23199511fb59",
        "colab": {
          "base_uri": "https://localhost:8080/",
          "height": 102
        }
      },
      "source": [
        "y_train[:5]"
      ],
      "execution_count": 27,
      "outputs": [
        {
          "output_type": "execute_result",
          "data": {
            "text/plain": [
              "array([[0., 1., 0., 0., 0., 0., 0., 0., 0., 0.],\n",
              "       [1., 0., 0., 0., 0., 0., 0., 0., 0., 0.],\n",
              "       [0., 1., 0., 0., 0., 0., 0., 0., 0., 0.],\n",
              "       [0., 0., 0., 0., 1., 0., 0., 0., 0., 0.],\n",
              "       [1., 0., 0., 0., 0., 0., 0., 0., 0., 0.]], dtype=float32)"
            ]
          },
          "metadata": {
            "tags": []
          },
          "execution_count": 27
        }
      ]
    },
    {
      "cell_type": "markdown",
      "metadata": {
        "id": "uN1z_9VH-QAm",
        "colab_type": "text"
      },
      "source": [
        "Split dataset into 2 parts: train (X_Train, Y_train) and verification (X_val, Y_val)"
      ]
    },
    {
      "cell_type": "code",
      "metadata": {
        "id": "UjEDV7gSrthA",
        "colab_type": "code",
        "colab": {}
      },
      "source": [
        "random_seed = 2\n",
        "X_train, X_val, Y_train, Y_val = train_test_split(x_train, y_train, test_size = 0.10, random_state=random_seed)"
      ],
      "execution_count": 0,
      "outputs": []
    },
    {
      "cell_type": "code",
      "metadata": {
        "id": "LJgbvHFTT2g7",
        "colab_type": "code",
        "outputId": "cfb6d1b7-df36-4df9-e446-32fb27f916d4",
        "colab": {
          "base_uri": "https://localhost:8080/",
          "height": 34
        }
      },
      "source": [
        "X_train.shape"
      ],
      "execution_count": 32,
      "outputs": [
        {
          "output_type": "execute_result",
          "data": {
            "text/plain": [
              "(37800, 28, 28, 1)"
            ]
          },
          "metadata": {
            "tags": []
          },
          "execution_count": 32
        }
      ]
    },
    {
      "cell_type": "markdown",
      "metadata": {
        "id": "RevEe2W06jVq",
        "colab_type": "text"
      },
      "source": [
        "Create augmented data generation to extend dataset with new high quality data"
      ]
    },
    {
      "cell_type": "code",
      "metadata": {
        "id": "pPy-7W7DqE9w",
        "colab_type": "code",
        "colab": {}
      },
      "source": [
        "datagen = ImageDataGenerator(\n",
        "        rotation_range=11,  \n",
        "        zoom_range = 0.11,  \n",
        "        width_shift_range=0.1, \n",
        "        height_shift_range=0.1)"
      ],
      "execution_count": 0,
      "outputs": []
    },
    {
      "cell_type": "code",
      "metadata": {
        "id": "CjffjIEa67rK",
        "colab_type": "code",
        "outputId": "16a1e043-d6b1-4f9a-8d46-957cb1f4fbc9",
        "colab": {
          "base_uri": "https://localhost:8080/",
          "height": 1000
        }
      },
      "source": [
        "i = 0\n",
        "data = X_train[0]\n",
        "data = np.expand_dims(data, axis=0)\n",
        "for batch in datagen.flow(data, batch_size=1):\n",
        "    plt.figure(i)\n",
        "    imgplot = plt.imshow(batch[0][:,:,0])\n",
        "    i += 1\n",
        "    if i % 6 == 0:\n",
        "        break\n",
        "plt.show()"
      ],
      "execution_count": 34,
      "outputs": [
        {
          "output_type": "display_data",
          "data": {
            "image/png": "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\n",
            "text/plain": [
              "<Figure size 432x288 with 1 Axes>"
            ]
          },
          "metadata": {
            "tags": [],
            "needs_background": "light"
          }
        },
        {
          "output_type": "display_data",
          "data": {
            "image/png": "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\n",
            "text/plain": [
              "<Figure size 432x288 with 1 Axes>"
            ]
          },
          "metadata": {
            "tags": [],
            "needs_background": "light"
          }
        },
        {
          "output_type": "display_data",
          "data": {
            "image/png": "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\n",
            "text/plain": [
              "<Figure size 432x288 with 1 Axes>"
            ]
          },
          "metadata": {
            "tags": [],
            "needs_background": "light"
          }
        },
        {
          "output_type": "display_data",
          "data": {
            "image/png": "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\n",
            "text/plain": [
              "<Figure size 432x288 with 1 Axes>"
            ]
          },
          "metadata": {
            "tags": [],
            "needs_background": "light"
          }
        },
        {
          "output_type": "display_data",
          "data": {
            "image/png": "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\n",
            "text/plain": [
              "<Figure size 432x288 with 1 Axes>"
            ]
          },
          "metadata": {
            "tags": [],
            "needs_background": "light"
          }
        },
        {
          "output_type": "display_data",
          "data": {
            "image/png": "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\n",
            "text/plain": [
              "<Figure size 432x288 with 1 Axes>"
            ]
          },
          "metadata": {
            "tags": [],
            "needs_background": "light"
          }
        }
      ]
    },
    {
      "cell_type": "markdown",
      "metadata": {
        "id": "BmTr_lXTKNbN",
        "colab_type": "text"
      },
      "source": [
        "## Create Neural Network"
      ]
    },
    {
      "cell_type": "markdown",
      "metadata": {
        "id": "fV_igNZuMNXe",
        "colab_type": "text"
      },
      "source": [
        "**Create sequential model**"
      ]
    },
    {
      "cell_type": "code",
      "metadata": {
        "id": "YvRM8hR06iUt",
        "colab_type": "code",
        "colab": {}
      },
      "source": [
        "model = Sequential()\n",
        "\n",
        "model.add(Conv2D(filters = 32, kernel_size = (5,5),padding = 'Same', \n",
        "                 activation ='relu', input_shape = (28,28,1)))\n",
        "model.add(Conv2D(filters = 32, kernel_size = (5,5),padding = 'Same', \n",
        "                 activation ='relu'))\n",
        "model.add(MaxPooling2D(pool_size=(2,2)))\n",
        "model.add(Dropout(0.25))\n",
        "\n",
        "\n",
        "model.add(Conv2D(filters = 64, kernel_size = (3,3),padding = 'Same', \n",
        "                 activation ='relu'))\n",
        "model.add(Conv2D(filters = 64, kernel_size = (3,3),padding = 'Same', \n",
        "                 activation ='relu'))\n",
        "model.add(MaxPooling2D(pool_size=(2,2), strides=(2,2)))\n",
        "model.add(Dropout(0.25))\n",
        "\n",
        "model.add(Flatten())\n",
        "model.add(Dense(256, activation = \"relu\"))\n",
        "model.add(Dropout(0.5))\n",
        "model.add(Dense(10, activation = \"softmax\"))"
      ],
      "execution_count": 0,
      "outputs": []
    },
    {
      "cell_type": "markdown",
      "metadata": {
        "id": "G__m76T-KWhd",
        "colab_type": "text"
      },
      "source": [
        "**Compile network**"
      ]
    },
    {
      "cell_type": "code",
      "metadata": {
        "id": "PTcbSxchKZjd",
        "colab_type": "code",
        "outputId": "5a18e0cd-5dd7-4ce5-97a7-0278fdec9521",
        "colab": {
          "base_uri": "https://localhost:8080/",
          "height": 578
        }
      },
      "source": [
        "model.compile(loss=\"categorical_crossentropy\", optimizer=\"adam\", metrics=[\"accuracy\"])\n",
        "\n",
        "print(model.summary())"
      ],
      "execution_count": 36,
      "outputs": [
        {
          "output_type": "stream",
          "text": [
            "Model: \"sequential\"\n",
            "_________________________________________________________________\n",
            "Layer (type)                 Output Shape              Param #   \n",
            "=================================================================\n",
            "conv2d (Conv2D)              (None, 28, 28, 32)        832       \n",
            "_________________________________________________________________\n",
            "conv2d_1 (Conv2D)            (None, 28, 28, 32)        25632     \n",
            "_________________________________________________________________\n",
            "max_pooling2d (MaxPooling2D) (None, 14, 14, 32)        0         \n",
            "_________________________________________________________________\n",
            "dropout (Dropout)            (None, 14, 14, 32)        0         \n",
            "_________________________________________________________________\n",
            "conv2d_2 (Conv2D)            (None, 14, 14, 64)        18496     \n",
            "_________________________________________________________________\n",
            "conv2d_3 (Conv2D)            (None, 14, 14, 64)        36928     \n",
            "_________________________________________________________________\n",
            "max_pooling2d_1 (MaxPooling2 (None, 7, 7, 64)          0         \n",
            "_________________________________________________________________\n",
            "dropout_1 (Dropout)          (None, 7, 7, 64)          0         \n",
            "_________________________________________________________________\n",
            "flatten (Flatten)            (None, 3136)              0         \n",
            "_________________________________________________________________\n",
            "dense (Dense)                (None, 256)               803072    \n",
            "_________________________________________________________________\n",
            "dropout_2 (Dropout)          (None, 256)               0         \n",
            "_________________________________________________________________\n",
            "dense_1 (Dense)              (None, 10)                2570      \n",
            "=================================================================\n",
            "Total params: 887,530\n",
            "Trainable params: 887,530\n",
            "Non-trainable params: 0\n",
            "_________________________________________________________________\n",
            "None\n"
          ],
          "name": "stdout"
        }
      ]
    },
    {
      "cell_type": "markdown",
      "metadata": {
        "id": "lspCHiaCKl72",
        "colab_type": "text"
      },
      "source": [
        "## Fit Neural Network's Model"
      ]
    },
    {
      "cell_type": "code",
      "metadata": {
        "id": "C3JnxgJMeKbn",
        "colab_type": "code",
        "colab": {}
      },
      "source": [
        "checkpoint = ModelCheckpoint('mnist-cnn.h5', \n",
        "                              monitor='val_accuracy', \n",
        "                              save_best_only=True,\n",
        "                              verbose=1)"
      ],
      "execution_count": 0,
      "outputs": []
    },
    {
      "cell_type": "code",
      "metadata": {
        "id": "ZTRnbOV2dbfA",
        "colab_type": "code",
        "colab": {}
      },
      "source": [
        "learning_rate_reduction = ReduceLROnPlateau(monitor='val_accuracy', \n",
        "                                            patience=3, \n",
        "                                            verbose=1, \n",
        "                                            factor=0.5, \n",
        "                                            min_lr=0.00001)"
      ],
      "execution_count": 0,
      "outputs": []
    },
    {
      "cell_type": "code",
      "metadata": {
        "id": "bldCePr5sUYg",
        "colab_type": "code",
        "colab": {}
      },
      "source": [
        "batch_size=96"
      ],
      "execution_count": 0,
      "outputs": []
    },
    {
      "cell_type": "code",
      "metadata": {
        "id": "H6EIXu1dKoju",
        "colab_type": "code",
        "outputId": "bfd00ef4-0c9a-4edb-9f07-5d075f006a1e",
        "colab": {
          "base_uri": "https://localhost:8080/",
          "height": 1000
        }
      },
      "source": [
        "history = model.fit(datagen.flow(X_train,Y_train, batch_size=batch_size), \n",
        "                    epochs=100,\n",
        "                    validation_data=(X_val, Y_val),\n",
        "                    steps_per_epoch=X_train.shape[0] // batch_size,\n",
        "                    verbose=1,\n",
        "                    callbacks=[checkpoint, learning_rate_reduction])"
      ],
      "execution_count": 41,
      "outputs": [
        {
          "output_type": "stream",
          "text": [
            "Epoch 1/100\n",
            "391/393 [============================>.] - ETA: 0s - loss: 0.4532 - accuracy: 0.8521\n",
            "Epoch 00001: val_accuracy improved from -inf to 0.98119, saving model to mnist-cnn.h5\n",
            "393/393 [==============================] - 10s 25ms/step - loss: 0.4520 - accuracy: 0.8525 - val_loss: 0.0669 - val_accuracy: 0.9812 - lr: 0.0010\n",
            "Epoch 2/100\n",
            "393/393 [==============================] - ETA: 0s - loss: 0.1413 - accuracy: 0.9585\n",
            "Epoch 00002: val_accuracy improved from 0.98119 to 0.98595, saving model to mnist-cnn.h5\n",
            "393/393 [==============================] - 10s 25ms/step - loss: 0.1413 - accuracy: 0.9585 - val_loss: 0.0509 - val_accuracy: 0.9860 - lr: 0.0010\n",
            "Epoch 3/100\n",
            "391/393 [============================>.] - ETA: 0s - loss: 0.1070 - accuracy: 0.9676\n",
            "Epoch 00003: val_accuracy improved from 0.98595 to 0.98786, saving model to mnist-cnn.h5\n",
            "393/393 [==============================] - 10s 24ms/step - loss: 0.1069 - accuracy: 0.9677 - val_loss: 0.0423 - val_accuracy: 0.9879 - lr: 0.0010\n",
            "Epoch 4/100\n",
            "393/393 [==============================] - ETA: 0s - loss: 0.0870 - accuracy: 0.9747\n",
            "Epoch 00004: val_accuracy improved from 0.98786 to 0.99143, saving model to mnist-cnn.h5\n",
            "393/393 [==============================] - 10s 25ms/step - loss: 0.0870 - accuracy: 0.9747 - val_loss: 0.0274 - val_accuracy: 0.9914 - lr: 0.0010\n",
            "Epoch 5/100\n",
            "393/393 [==============================] - ETA: 0s - loss: 0.0773 - accuracy: 0.9770\n",
            "Epoch 00005: val_accuracy did not improve from 0.99143\n",
            "393/393 [==============================] - 10s 26ms/step - loss: 0.0773 - accuracy: 0.9770 - val_loss: 0.0267 - val_accuracy: 0.9910 - lr: 0.0010\n",
            "Epoch 6/100\n",
            "392/393 [============================>.] - ETA: 0s - loss: 0.0682 - accuracy: 0.9795\n",
            "Epoch 00006: val_accuracy improved from 0.99143 to 0.99262, saving model to mnist-cnn.h5\n",
            "393/393 [==============================] - 10s 25ms/step - loss: 0.0681 - accuracy: 0.9795 - val_loss: 0.0245 - val_accuracy: 0.9926 - lr: 0.0010\n",
            "Epoch 7/100\n",
            "392/393 [============================>.] - ETA: 0s - loss: 0.0627 - accuracy: 0.9805\n",
            "Epoch 00007: val_accuracy improved from 0.99262 to 0.99333, saving model to mnist-cnn.h5\n",
            "393/393 [==============================] - 10s 25ms/step - loss: 0.0627 - accuracy: 0.9805 - val_loss: 0.0248 - val_accuracy: 0.9933 - lr: 0.0010\n",
            "Epoch 8/100\n",
            "393/393 [==============================] - ETA: 0s - loss: 0.0595 - accuracy: 0.9819\n",
            "Epoch 00097: val_accuracy did not improve from 0.99690\n",
            "393/393 [==============================] - 10s 25ms/step - loss: 0.0135 - accuracy: 0.9959 - val_loss: 0.0136 - val_accuracy: 0.9962 - lr: 1.0000e-05\n",
            "Epoch 98/100\n",
            "392/393 [============================>.] - ETA: 0s - loss: 0.0141 - accuracy: 0.9959\n",
            "Epoch 00098: val_accuracy did not improve from 0.99690\n",
            "393/393 [==============================] - 10s 25ms/step - loss: 0.0141 - accuracy: 0.9959 - val_loss: 0.0136 - val_accuracy: 0.9957 - lr: 1.0000e-05\n",
            "Epoch 99/100\n",
            "391/393 [============================>.] - ETA: 0s - loss: 0.0139 - accuracy: 0.9959\n",
            "Epoch 00099: val_accuracy did not improve from 0.99690\n",
            "393/393 [==============================] - 10s 25ms/step - loss: 0.0139 - accuracy: 0.9960 - val_loss: 0.0136 - val_accuracy: 0.9960 - lr: 1.0000e-05\n",
            "Epoch 100/100\n",
            "393/393 [==============================] - ETA: 0s - loss: 0.0135 - accuracy: 0.9960\n",
            "Epoch 00100: val_accuracy did not improve from 0.99690\n",
            "393/393 [==============================] - 10s 25ms/step - loss: 0.0135 - accuracy: 0.9960 - val_loss: 0.0138 - val_accuracy: 0.9957 - lr: 1.0000e-05\n"
          ],
          "name": "stdout"
        }
      ]
    },
    {
      "cell_type": "code",
      "metadata": {
        "id": "miePM2tefyzO",
        "colab_type": "code",
        "colab": {}
      },
      "source": [
        "model.load_weights('mnist-cnn.h5')"
      ],
      "execution_count": 0,
      "outputs": []
    },
    {
      "cell_type": "markdown",
      "metadata": {
        "id": "wYhse8xmmdS5",
        "colab_type": "text"
      },
      "source": [
        "## Visualize learn rate quality and speed\n"
      ]
    },
    {
      "cell_type": "code",
      "metadata": {
        "id": "ty0iVxcXmgHt",
        "colab_type": "code",
        "outputId": "141bf928-919d-4315-fad3-fe3479cd7018",
        "colab": {
          "base_uri": "https://localhost:8080/",
          "height": 279
        }
      },
      "source": [
        "plt.plot(history.history['val_accuracy'], \n",
        "         label='Correct results ratio upon testing dataset')\n",
        "plt.xlabel('Epoch')\n",
        "plt.ylabel('Correct results ratio')\n",
        "plt.legend()\n",
        "plt.show()"
      ],
      "execution_count": 58,
      "outputs": [
        {
          "output_type": "display_data",
          "data": {
            "image/png": "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\n",
            "text/plain": [
              "<Figure size 432x288 with 1 Axes>"
            ]
          },
          "metadata": {
            "tags": [],
            "needs_background": "light"
          }
        }
      ]
    },
    {
      "cell_type": "markdown",
      "metadata": {
        "id": "_rQbSXc0CwSQ",
        "colab_type": "text"
      },
      "source": [
        "## Loading data to predict (testing data)"
      ]
    },
    {
      "cell_type": "code",
      "metadata": {
        "id": "lw4F0rCbC0HA",
        "colab_type": "code",
        "colab": {}
      },
      "source": [
        "test_dataset = np.loadtxt('test.csv', skiprows=1, delimiter=\",\")"
      ],
      "execution_count": 0,
      "outputs": []
    },
    {
      "cell_type": "code",
      "metadata": {
        "id": "-Qaa-wwCDJxQ",
        "colab_type": "code",
        "outputId": "891597f2-7862-4470-8676-6337b4a0f8e7",
        "colab": {
          "base_uri": "https://localhost:8080/",
          "height": 102
        }
      },
      "source": [
        "test_dataset[:5]"
      ],
      "execution_count": 46,
      "outputs": [
        {
          "output_type": "execute_result",
          "data": {
            "text/plain": [
              "array([[0., 0., 0., ..., 0., 0., 0.],\n",
              "       [0., 0., 0., ..., 0., 0., 0.],\n",
              "       [0., 0., 0., ..., 0., 0., 0.],\n",
              "       [0., 0., 0., ..., 0., 0., 0.],\n",
              "       [0., 0., 0., ..., 0., 0., 0.]])"
            ]
          },
          "metadata": {
            "tags": []
          },
          "execution_count": 46
        }
      ]
    },
    {
      "cell_type": "code",
      "metadata": {
        "id": "KtCMLgC7Y53H",
        "colab_type": "code",
        "colab": {}
      },
      "source": [
        "x_test = test_dataset.reshape(test_dataset.shape[0], 28, 28, 1)"
      ],
      "execution_count": 0,
      "outputs": []
    },
    {
      "cell_type": "markdown",
      "metadata": {
        "id": "2edLWqi-DV8v",
        "colab_type": "text"
      },
      "source": [
        "Normalize data"
      ]
    },
    {
      "cell_type": "code",
      "metadata": {
        "id": "lKKDMHoCDYKH",
        "colab_type": "code",
        "colab": {}
      },
      "source": [
        "x_test = x_test / 255.0"
      ],
      "execution_count": 0,
      "outputs": []
    },
    {
      "cell_type": "markdown",
      "metadata": {
        "id": "nCDrYOZVD8LS",
        "colab_type": "text"
      },
      "source": [
        "## Predict loaded data (testing data)"
      ]
    },
    {
      "cell_type": "code",
      "metadata": {
        "id": "hkGx6etOEHW3",
        "colab_type": "code",
        "colab": {}
      },
      "source": [
        "predictions = model.predict(x_test)"
      ],
      "execution_count": 0,
      "outputs": []
    },
    {
      "cell_type": "code",
      "metadata": {
        "id": "KpjMktszEOHX",
        "colab_type": "code",
        "outputId": "10aba24d-d929-4beb-f733-d10d6fd12cd0",
        "colab": {
          "base_uri": "https://localhost:8080/",
          "height": 272
        }
      },
      "source": [
        "predictions[:5]"
      ],
      "execution_count": 50,
      "outputs": [
        {
          "output_type": "execute_result",
          "data": {
            "text/plain": [
              "array([[5.13102616e-18, 6.52031156e-18, 1.00000000e+00, 7.39283411e-15,\n",
              "        2.70005796e-14, 1.84716682e-19, 1.77765216e-17, 1.26692027e-12,\n",
              "        5.81437889e-15, 2.03984825e-15],\n",
              "       [9.99999523e-01, 6.97582129e-13, 1.02763553e-09, 2.93605973e-10,\n",
              "        7.33467453e-10, 3.16463827e-10, 1.89803345e-07, 2.05056701e-11,\n",
              "        1.48352326e-08, 1.86027691e-07],\n",
              "       [2.50335808e-10, 1.78401349e-09, 3.94817690e-08, 4.18314663e-08,\n",
              "        8.32543094e-07, 4.13410778e-10, 3.99446492e-12, 1.01000319e-08,\n",
              "        5.34935180e-06, 9.99993682e-01],\n",
              "       [9.96780396e-01, 8.93293173e-09, 6.22603111e-05, 3.55151060e-05,\n",
              "        2.20302624e-07, 1.18545108e-06, 9.33861083e-05, 2.07854441e-06,\n",
              "        2.80733220e-04, 2.74416967e-03],\n",
              "       [1.13856085e-14, 1.15974504e-13, 4.35737446e-09, 1.00000000e+00,\n",
              "        2.82955274e-16, 2.24439939e-10, 2.40446263e-16, 1.13716382e-13,\n",
              "        4.20715374e-08, 2.76973527e-10]], dtype=float32)"
            ]
          },
          "metadata": {
            "tags": []
          },
          "execution_count": 50
        }
      ]
    },
    {
      "cell_type": "markdown",
      "metadata": {
        "id": "hxmUUZFeES83",
        "colab_type": "text"
      },
      "source": [
        "Transform \"one hot encoding\" format data into result digits format"
      ]
    },
    {
      "cell_type": "code",
      "metadata": {
        "id": "9zXRff8tEZcw",
        "colab_type": "code",
        "colab": {}
      },
      "source": [
        "predictions = np.argmax(predictions, axis=1)"
      ],
      "execution_count": 0,
      "outputs": []
    },
    {
      "cell_type": "code",
      "metadata": {
        "id": "I4JBXf1lEev6",
        "colab_type": "code",
        "outputId": "845f4844-85ae-424f-82fb-f86ddedf9910",
        "colab": {
          "base_uri": "https://localhost:8080/",
          "height": 34
        }
      },
      "source": [
        "predictions[:5]"
      ],
      "execution_count": 52,
      "outputs": [
        {
          "output_type": "execute_result",
          "data": {
            "text/plain": [
              "array([2, 0, 9, 0, 3])"
            ]
          },
          "metadata": {
            "tags": []
          },
          "execution_count": 52
        }
      ]
    },
    {
      "cell_type": "markdown",
      "metadata": {
        "id": "xYh4TAz4Ei3p",
        "colab_type": "text"
      },
      "source": [
        "## Prepare Kaggle result file to report it via Kaggle API"
      ]
    },
    {
      "cell_type": "code",
      "metadata": {
        "id": "ciJZLp7uEn5p",
        "colab_type": "code",
        "colab": {}
      },
      "source": [
        "out = np.column_stack((range(1, predictions.shape[0]+1), predictions))"
      ],
      "execution_count": 0,
      "outputs": []
    },
    {
      "cell_type": "code",
      "metadata": {
        "id": "fbtqv-c7FH8S",
        "colab_type": "code",
        "outputId": "cc070344-0bcd-4a5c-93af-cc856b6a6efc",
        "colab": {
          "base_uri": "https://localhost:8080/",
          "height": 102
        }
      },
      "source": [
        "out[:5]"
      ],
      "execution_count": 54,
      "outputs": [
        {
          "output_type": "execute_result",
          "data": {
            "text/plain": [
              "array([[1, 2],\n",
              "       [2, 0],\n",
              "       [3, 9],\n",
              "       [4, 0],\n",
              "       [5, 3]])"
            ]
          },
          "metadata": {
            "tags": []
          },
          "execution_count": 54
        }
      ]
    },
    {
      "cell_type": "markdown",
      "metadata": {
        "id": "Njg9BTZUFSDx",
        "colab_type": "text"
      },
      "source": [
        "Save result into csv file"
      ]
    },
    {
      "cell_type": "code",
      "metadata": {
        "id": "aub5ObF2FUmy",
        "colab_type": "code",
        "colab": {}
      },
      "source": [
        "np.savetxt('submission.csv', out, header=\"ImageId,Label\", \n",
        "            comments=\"\", fmt=\"%d,%d\")"
      ],
      "execution_count": 0,
      "outputs": []
    },
    {
      "cell_type": "code",
      "metadata": {
        "id": "kdtnyQEOFX-x",
        "colab_type": "code",
        "outputId": "193b2aaf-3bc3-424d-d4fe-1d83991f3a99",
        "colab": {
          "base_uri": "https://localhost:8080/",
          "height": 187
        }
      },
      "source": [
        "!head submission.csv"
      ],
      "execution_count": 56,
      "outputs": [
        {
          "output_type": "stream",
          "text": [
            "ImageId,Label\n",
            "1,2\n",
            "2,0\n",
            "3,9\n",
            "4,0\n",
            "5,3\n",
            "6,7\n",
            "7,0\n",
            "8,3\n",
            "9,0\n"
          ],
          "name": "stdout"
        }
      ]
    },
    {
      "cell_type": "markdown",
      "metadata": {
        "id": "RTk-9CAxF0_5",
        "colab_type": "text"
      },
      "source": [
        "## Send solution to competition aggregator"
      ]
    },
    {
      "cell_type": "code",
      "metadata": {
        "id": "26Ij7aJXF5fo",
        "colab_type": "code",
        "outputId": "999524d4-9837-40c4-b168-cf4035ea1696",
        "colab": {
          "base_uri": "https://localhost:8080/",
          "height": 85
        }
      },
      "source": [
        "!kaggle competitions submit -c digit-recognizer -m \"Submition from Colab\" -f submission.csv"
      ],
      "execution_count": 57,
      "outputs": [
        {
          "output_type": "stream",
          "text": [
            "Warning: Your Kaggle API key is readable by other users on this system! To fix this, you can run 'chmod 600 /root/.kaggle/kaggle.json'\n",
            "Warning: Looks like you're using an outdated API Version, please consider updating (server 1.5.6 / client 1.5.4)\n",
            "100% 208k/208k [00:00<00:00, 246kB/s]\n",
            "Successfully submitted to Digit Recognizer"
          ],
          "name": "stdout"
        }
      ]
    }
  ]
}
